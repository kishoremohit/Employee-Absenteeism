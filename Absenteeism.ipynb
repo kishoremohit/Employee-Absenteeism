{
 "cells": [
  {
   "cell_type": "markdown",
   "metadata": {
    "collapsed": true
   },
   "source": [
    "# Loading Important Libraries to Read and Analyse the Data"
   ]
  },
  {
   "cell_type": "code",
   "execution_count": 1,
   "metadata": {
    "collapsed": true
   },
   "outputs": [],
   "source": [
    "import pandas as pd\n",
    "import matplotlib.pyplot as plt\n",
    "import seaborn as sns\n",
    "import numpy as np\n",
    "%matplotlib inline"
   ]
  },
  {
   "cell_type": "markdown",
   "metadata": {},
   "source": [
    "# Readind Absenteeism_at_work_Project.xls DataSet As Absenteeism & Checking Head Of the Data"
   ]
  },
  {
   "cell_type": "code",
   "execution_count": 2,
   "metadata": {},
   "outputs": [
    {
     "data": {
      "text/html": [
       "<div>\n",
       "<style>\n",
       "    .dataframe thead tr:only-child th {\n",
       "        text-align: right;\n",
       "    }\n",
       "\n",
       "    .dataframe thead th {\n",
       "        text-align: left;\n",
       "    }\n",
       "\n",
       "    .dataframe tbody tr th {\n",
       "        vertical-align: top;\n",
       "    }\n",
       "</style>\n",
       "<table border=\"1\" class=\"dataframe\">\n",
       "  <thead>\n",
       "    <tr style=\"text-align: right;\">\n",
       "      <th></th>\n",
       "      <th>ID</th>\n",
       "      <th>Reason for absence</th>\n",
       "      <th>Month of absence</th>\n",
       "      <th>Day of the week</th>\n",
       "      <th>Seasons</th>\n",
       "      <th>Transportation expense</th>\n",
       "      <th>Distance from Residence to Work</th>\n",
       "      <th>Service time</th>\n",
       "      <th>Age</th>\n",
       "      <th>Work load Average/day</th>\n",
       "      <th>...</th>\n",
       "      <th>Disciplinary failure</th>\n",
       "      <th>Education</th>\n",
       "      <th>Son</th>\n",
       "      <th>Social drinker</th>\n",
       "      <th>Social smoker</th>\n",
       "      <th>Pet</th>\n",
       "      <th>Weight</th>\n",
       "      <th>Height</th>\n",
       "      <th>Body mass index</th>\n",
       "      <th>Absenteeism time in hours</th>\n",
       "    </tr>\n",
       "  </thead>\n",
       "  <tbody>\n",
       "    <tr>\n",
       "      <th>0</th>\n",
       "      <td>11</td>\n",
       "      <td>26.0</td>\n",
       "      <td>7.0</td>\n",
       "      <td>3</td>\n",
       "      <td>1</td>\n",
       "      <td>289.0</td>\n",
       "      <td>36.0</td>\n",
       "      <td>13.0</td>\n",
       "      <td>33.0</td>\n",
       "      <td>239554.0</td>\n",
       "      <td>...</td>\n",
       "      <td>0.0</td>\n",
       "      <td>1.0</td>\n",
       "      <td>2.0</td>\n",
       "      <td>1.0</td>\n",
       "      <td>0.0</td>\n",
       "      <td>1.0</td>\n",
       "      <td>90.0</td>\n",
       "      <td>172.0</td>\n",
       "      <td>30.0</td>\n",
       "      <td>4.0</td>\n",
       "    </tr>\n",
       "    <tr>\n",
       "      <th>1</th>\n",
       "      <td>36</td>\n",
       "      <td>0.0</td>\n",
       "      <td>7.0</td>\n",
       "      <td>3</td>\n",
       "      <td>1</td>\n",
       "      <td>118.0</td>\n",
       "      <td>13.0</td>\n",
       "      <td>18.0</td>\n",
       "      <td>50.0</td>\n",
       "      <td>239554.0</td>\n",
       "      <td>...</td>\n",
       "      <td>1.0</td>\n",
       "      <td>1.0</td>\n",
       "      <td>1.0</td>\n",
       "      <td>1.0</td>\n",
       "      <td>0.0</td>\n",
       "      <td>0.0</td>\n",
       "      <td>98.0</td>\n",
       "      <td>178.0</td>\n",
       "      <td>31.0</td>\n",
       "      <td>0.0</td>\n",
       "    </tr>\n",
       "    <tr>\n",
       "      <th>2</th>\n",
       "      <td>3</td>\n",
       "      <td>23.0</td>\n",
       "      <td>7.0</td>\n",
       "      <td>4</td>\n",
       "      <td>1</td>\n",
       "      <td>179.0</td>\n",
       "      <td>51.0</td>\n",
       "      <td>18.0</td>\n",
       "      <td>38.0</td>\n",
       "      <td>239554.0</td>\n",
       "      <td>...</td>\n",
       "      <td>0.0</td>\n",
       "      <td>1.0</td>\n",
       "      <td>0.0</td>\n",
       "      <td>1.0</td>\n",
       "      <td>0.0</td>\n",
       "      <td>0.0</td>\n",
       "      <td>89.0</td>\n",
       "      <td>170.0</td>\n",
       "      <td>31.0</td>\n",
       "      <td>2.0</td>\n",
       "    </tr>\n",
       "    <tr>\n",
       "      <th>3</th>\n",
       "      <td>7</td>\n",
       "      <td>7.0</td>\n",
       "      <td>7.0</td>\n",
       "      <td>5</td>\n",
       "      <td>1</td>\n",
       "      <td>279.0</td>\n",
       "      <td>5.0</td>\n",
       "      <td>14.0</td>\n",
       "      <td>39.0</td>\n",
       "      <td>239554.0</td>\n",
       "      <td>...</td>\n",
       "      <td>0.0</td>\n",
       "      <td>1.0</td>\n",
       "      <td>2.0</td>\n",
       "      <td>1.0</td>\n",
       "      <td>1.0</td>\n",
       "      <td>0.0</td>\n",
       "      <td>68.0</td>\n",
       "      <td>168.0</td>\n",
       "      <td>24.0</td>\n",
       "      <td>4.0</td>\n",
       "    </tr>\n",
       "    <tr>\n",
       "      <th>4</th>\n",
       "      <td>11</td>\n",
       "      <td>23.0</td>\n",
       "      <td>7.0</td>\n",
       "      <td>5</td>\n",
       "      <td>1</td>\n",
       "      <td>289.0</td>\n",
       "      <td>36.0</td>\n",
       "      <td>13.0</td>\n",
       "      <td>33.0</td>\n",
       "      <td>239554.0</td>\n",
       "      <td>...</td>\n",
       "      <td>0.0</td>\n",
       "      <td>1.0</td>\n",
       "      <td>2.0</td>\n",
       "      <td>1.0</td>\n",
       "      <td>0.0</td>\n",
       "      <td>1.0</td>\n",
       "      <td>90.0</td>\n",
       "      <td>172.0</td>\n",
       "      <td>30.0</td>\n",
       "      <td>2.0</td>\n",
       "    </tr>\n",
       "  </tbody>\n",
       "</table>\n",
       "<p>5 rows × 21 columns</p>\n",
       "</div>"
      ],
      "text/plain": [
       "   ID  Reason for absence  Month of absence  Day of the week  Seasons  \\\n",
       "0  11                26.0               7.0                3        1   \n",
       "1  36                 0.0               7.0                3        1   \n",
       "2   3                23.0               7.0                4        1   \n",
       "3   7                 7.0               7.0                5        1   \n",
       "4  11                23.0               7.0                5        1   \n",
       "\n",
       "   Transportation expense  Distance from Residence to Work  Service time  \\\n",
       "0                   289.0                             36.0          13.0   \n",
       "1                   118.0                             13.0          18.0   \n",
       "2                   179.0                             51.0          18.0   \n",
       "3                   279.0                              5.0          14.0   \n",
       "4                   289.0                             36.0          13.0   \n",
       "\n",
       "    Age  Work load Average/day             ...              \\\n",
       "0  33.0                239554.0            ...               \n",
       "1  50.0                239554.0            ...               \n",
       "2  38.0                239554.0            ...               \n",
       "3  39.0                239554.0            ...               \n",
       "4  33.0                239554.0            ...               \n",
       "\n",
       "   Disciplinary failure  Education  Son  Social drinker  Social smoker  Pet  \\\n",
       "0                   0.0        1.0  2.0             1.0            0.0  1.0   \n",
       "1                   1.0        1.0  1.0             1.0            0.0  0.0   \n",
       "2                   0.0        1.0  0.0             1.0            0.0  0.0   \n",
       "3                   0.0        1.0  2.0             1.0            1.0  0.0   \n",
       "4                   0.0        1.0  2.0             1.0            0.0  1.0   \n",
       "\n",
       "   Weight  Height  Body mass index  Absenteeism time in hours  \n",
       "0    90.0   172.0             30.0                        4.0  \n",
       "1    98.0   178.0             31.0                        0.0  \n",
       "2    89.0   170.0             31.0                        2.0  \n",
       "3    68.0   168.0             24.0                        4.0  \n",
       "4    90.0   172.0             30.0                        2.0  \n",
       "\n",
       "[5 rows x 21 columns]"
      ]
     },
     "execution_count": 2,
     "metadata": {},
     "output_type": "execute_result"
    }
   ],
   "source": [
    "Absenteeism = pd.read_excel('Absenteeism_at_work_Project.xls')\n",
    "Absenteeism.head()"
   ]
  },
  {
   "cell_type": "markdown",
   "metadata": {},
   "source": [
    "# Making Copy Of Data"
   ]
  },
  {
   "cell_type": "code",
   "execution_count": 3,
   "metadata": {
    "collapsed": true
   },
   "outputs": [],
   "source": [
    "Absent = Absenteeism.copy()"
   ]
  },
  {
   "cell_type": "markdown",
   "metadata": {},
   "source": [
    "# Finding Missing Data and Plotting using Matplotlib library "
   ]
  },
  {
   "cell_type": "code",
   "execution_count": 4,
   "metadata": {},
   "outputs": [
    {
     "data": {
      "text/plain": [
       "<matplotlib.axes._subplots.AxesSubplot at 0x1c6c919d7f0>"
      ]
     },
     "execution_count": 4,
     "metadata": {},
     "output_type": "execute_result"
    },
    {
     "data": {
      "image/png": "[encoded data removed]",
      "text/plain": [
       "<matplotlib.figure.Figure at 0x1c6c919d940>"
      ]
     },
     "metadata": {},
     "output_type": "display_data"
    }
   ],
   "source": [
    "plt.figure(figsize=(14,10))\n",
    "sns.heatmap(Absent.isnull(),yticklabels=False,cbar=False,cmap='viridis')"
   ]
  },
  {
   "cell_type": "markdown",
   "metadata": {},
   "source": [
    "# Calculating Mising Data value In Percentage for our Dataset Variable"
   ]
  },
  {
   "cell_type": "code",
   "execution_count": 5,
   "metadata": {},
   "outputs": [
    {
     "data": {
      "text/html": [
       "<div>\n",
       "<style>\n",
       "    .dataframe thead tr:only-child th {\n",
       "        text-align: right;\n",
       "    }\n",
       "\n",
       "    .dataframe thead th {\n",
       "        text-align: left;\n",
       "    }\n",
       "\n",
       "    .dataframe tbody tr th {\n",
       "        vertical-align: top;\n",
       "    }\n",
       "</style>\n",
       "<table border=\"1\" class=\"dataframe\">\n",
       "  <thead>\n",
       "    <tr style=\"text-align: right;\">\n",
       "      <th></th>\n",
       "      <th>Variable</th>\n",
       "      <th>Missing %</th>\n",
       "    </tr>\n",
       "  </thead>\n",
       "  <tbody>\n",
       "    <tr>\n",
       "      <th>0</th>\n",
       "      <td>Body mass index</td>\n",
       "      <td>4.189189</td>\n",
       "    </tr>\n",
       "    <tr>\n",
       "      <th>1</th>\n",
       "      <td>Absenteeism time in hours</td>\n",
       "      <td>2.972973</td>\n",
       "    </tr>\n",
       "    <tr>\n",
       "      <th>2</th>\n",
       "      <td>Height</td>\n",
       "      <td>1.891892</td>\n",
       "    </tr>\n",
       "    <tr>\n",
       "      <th>3</th>\n",
       "      <td>Work load Average/day</td>\n",
       "      <td>1.351351</td>\n",
       "    </tr>\n",
       "    <tr>\n",
       "      <th>4</th>\n",
       "      <td>Education</td>\n",
       "      <td>1.351351</td>\n",
       "    </tr>\n",
       "    <tr>\n",
       "      <th>5</th>\n",
       "      <td>Transportation expense</td>\n",
       "      <td>0.945946</td>\n",
       "    </tr>\n",
       "    <tr>\n",
       "      <th>6</th>\n",
       "      <td>Son</td>\n",
       "      <td>0.810811</td>\n",
       "    </tr>\n",
       "    <tr>\n",
       "      <th>7</th>\n",
       "      <td>Disciplinary failure</td>\n",
       "      <td>0.810811</td>\n",
       "    </tr>\n",
       "    <tr>\n",
       "      <th>8</th>\n",
       "      <td>Hit target</td>\n",
       "      <td>0.810811</td>\n",
       "    </tr>\n",
       "    <tr>\n",
       "      <th>9</th>\n",
       "      <td>Social smoker</td>\n",
       "      <td>0.540541</td>\n",
       "    </tr>\n",
       "    <tr>\n",
       "      <th>10</th>\n",
       "      <td>Age</td>\n",
       "      <td>0.405405</td>\n",
       "    </tr>\n",
       "    <tr>\n",
       "      <th>11</th>\n",
       "      <td>Reason for absence</td>\n",
       "      <td>0.405405</td>\n",
       "    </tr>\n",
       "    <tr>\n",
       "      <th>12</th>\n",
       "      <td>Service time</td>\n",
       "      <td>0.405405</td>\n",
       "    </tr>\n",
       "    <tr>\n",
       "      <th>13</th>\n",
       "      <td>Distance from Residence to Work</td>\n",
       "      <td>0.405405</td>\n",
       "    </tr>\n",
       "    <tr>\n",
       "      <th>14</th>\n",
       "      <td>Social drinker</td>\n",
       "      <td>0.405405</td>\n",
       "    </tr>\n",
       "    <tr>\n",
       "      <th>15</th>\n",
       "      <td>Pet</td>\n",
       "      <td>0.270270</td>\n",
       "    </tr>\n",
       "    <tr>\n",
       "      <th>16</th>\n",
       "      <td>Weight</td>\n",
       "      <td>0.135135</td>\n",
       "    </tr>\n",
       "    <tr>\n",
       "      <th>17</th>\n",
       "      <td>Month of absence</td>\n",
       "      <td>0.135135</td>\n",
       "    </tr>\n",
       "    <tr>\n",
       "      <th>18</th>\n",
       "      <td>Seasons</td>\n",
       "      <td>0.000000</td>\n",
       "    </tr>\n",
       "    <tr>\n",
       "      <th>19</th>\n",
       "      <td>Day of the week</td>\n",
       "      <td>0.000000</td>\n",
       "    </tr>\n",
       "    <tr>\n",
       "      <th>20</th>\n",
       "      <td>ID</td>\n",
       "      <td>0.000000</td>\n",
       "    </tr>\n",
       "  </tbody>\n",
       "</table>\n",
       "</div>"
      ],
      "text/plain": [
       "                           Variable  Missing %\n",
       "0                   Body mass index   4.189189\n",
       "1         Absenteeism time in hours   2.972973\n",
       "2                            Height   1.891892\n",
       "3            Work load Average/day    1.351351\n",
       "4                         Education   1.351351\n",
       "5            Transportation expense   0.945946\n",
       "6                               Son   0.810811\n",
       "7              Disciplinary failure   0.810811\n",
       "8                        Hit target   0.810811\n",
       "9                     Social smoker   0.540541\n",
       "10                              Age   0.405405\n",
       "11               Reason for absence   0.405405\n",
       "12                     Service time   0.405405\n",
       "13  Distance from Residence to Work   0.405405\n",
       "14                   Social drinker   0.405405\n",
       "15                              Pet   0.270270\n",
       "16                           Weight   0.135135\n",
       "17                 Month of absence   0.135135\n",
       "18                          Seasons   0.000000\n",
       "19                  Day of the week   0.000000\n",
       "20                               ID   0.000000"
      ]
     },
     "execution_count": 5,
     "metadata": {},
     "output_type": "execute_result"
    }
   ],
   "source": [
    "Missing = pd.DataFrame(Absent.isnull().sum())\n",
    "Missing = Missing.reset_index()\n",
    "Missing = Missing.rename(columns={'index':'Variable',0:'Missing %'})\n",
    "Missing['Missing %'] = (Missing['Missing %'] / len(Absent))*100\n",
    "Missing = Missing.sort_values('Missing %',ascending=False).reset_index(drop=True)\n",
    "Missing"
   ]
  },
  {
   "cell_type": "markdown",
   "metadata": {},
   "source": [
    "# Imputation Of Missing Data In Dataset Using Median"
   ]
  },
  {
   "cell_type": "markdown",
   "metadata": {},
   "source": [
    "****There was error installing \"Fancyimpute\" library so couldn't use KNN but Median turn out to be so well for our dataset imputation"
   ]
  },
  {
   "cell_type": "code",
   "execution_count": 6,
   "metadata": {
    "collapsed": true
   },
   "outputs": [],
   "source": [
    "Absent['Reason for absence'] = Absent['Reason for absence'].fillna(Absent['Reason for absence'].median())\n",
    "Absent['Month of absence'] = Absent['Month of absence'].fillna(Absent['Month of absence'].median())\n",
    "Absent['Transportation expense'] = Absent['Transportation expense'].fillna(Absent['Transportation expense'].median())\n",
    "Absent['Distance from Residence to Work'] = Absent['Distance from Residence to Work'].fillna(Absent['Distance from Residence to Work'].median())\n",
    "Absent['Service time']= Absent['Service time'].fillna(Absent['Service time'].median())\n",
    "Absent['Age'] = Absent['Age'].fillna(Absent['Age'].median())\n",
    "Absent['Work load Average/day ']= Absent['Work load Average/day '].fillna(Absent['Work load Average/day '].median())\n",
    "Absent['Hit target']= Absent['Hit target'].fillna(Absent['Hit target'].median())\n",
    "Absent['Disciplinary failure']= Absent['Disciplinary failure'].fillna(Absent['Disciplinary failure'].median())\n",
    "Absent['Education']= Absent['Education'].fillna(Absent['Education'].median())\n",
    "Absent['Son']= Absent['Son'].fillna(Absent['Son'].median())\n",
    "Absent['Social drinker']= Absent['Social drinker'].fillna(Absent['Social drinker'].median())\n",
    "Absent['Social smoker']= Absent['Social smoker'].fillna(Absent['Social smoker'].median())\n",
    "Absent['Pet']= Absent['Pet'].fillna(Absent['Pet'].median())\n",
    "Absent['Weight']= Absent['Weight'].fillna(Absent['Weight'].median())\n",
    "Absent['Height']= Absent['Height'].fillna(Absent['Height'].median())\n",
    "Absent['Body mass index']= Absent['Body mass index'].fillna(Absent['Body mass index'].median())\n",
    "Absent['Absenteeism time in hours']= Absent['Absenteeism time in hours'].fillna(Absent['Absenteeism time in hours'].median())"
   ]
  },
  {
   "cell_type": "markdown",
   "metadata": {},
   "source": [
    "# Convertion of DataType from Object and float to int64 And Category for better analysis and calculation"
   ]
  },
  {
   "cell_type": "code",
   "execution_count": 7,
   "metadata": {
    "collapsed": true
   },
   "outputs": [],
   "source": [
    "Absent['Reason for absence'] = Absent['Reason for absence'].astype(int)\n",
    "Absent['Month of absence'] = Absent['Month of absence'].astype(int)\n",
    "Absent['Transportation expense'] = Absent['Transportation expense'].astype(int)\n",
    "Absent['Distance from Residence to Work'] = Absent['Distance from Residence to Work'].astype(int)\n",
    "Absent['Service time'] = Absent['Service time'].astype(int)\n",
    "Absent['Age'] = Absent['Age'].astype(int)\n",
    "Absent['Work load Average/day '] = Absent['Work load Average/day '].astype(int)\n",
    "Absent['Hit target'] = Absent['Hit target'].astype(int)\n",
    "Absent['Disciplinary failure'] = Absent['Disciplinary failure'].astype(int)\n",
    "Absent['Education'] = Absent['Education'].astype(int)\n",
    "Absent['Son'] = Absent['Son'].astype(int)\n",
    "Absent['Age'] = Absent['Age'].astype(int)\n",
    "Absent['Social drinker'] = Absent['Social drinker'].astype(int)\n",
    "Absent['Social smoker'] = Absent['Social smoker'].astype(int)\n",
    "Absent['Pet'] = Absent['Pet'].astype(int)\n",
    "Absent['Weight'] = Absent['Weight'].astype(int)\n",
    "Absent['Height'] = Absent['Height'].astype(int)\n",
    "Absent['Body mass index'] = Absent['Body mass index'].astype(int)\n",
    "Absent['Absenteeism time in hours'] = Absent['Absenteeism time in hours'].astype(int)"
   ]
  },
  {
   "cell_type": "markdown",
   "metadata": {},
   "source": [
    "# Selecting all Numerical Column in one Set For Outlier Analysis"
   ]
  },
  {
   "cell_type": "code",
   "execution_count": 8,
   "metadata": {
    "collapsed": true
   },
   "outputs": [],
   "source": [
    "Numeric = Absent[['Transportation expense', 'Distance from Residence to Work',\n",
    "                   'Service time', 'Age', 'Work load Average/day ', 'Hit target','Son','Pet', \n",
    "                  'Weight', 'Height', 'Body mass index','Absenteeism time in hours']]"
   ]
  },
  {
   "cell_type": "markdown",
   "metadata": {},
   "source": [
    "# Plotting Box Plot For outlier Analysis in our Numerical Data"
   ]
  },
  {
   "cell_type": "code",
   "execution_count": 9,
   "metadata": {},
   "outputs": [
    {
     "data": {
      "text/plain": [
       "{'boxes': [<matplotlib.lines.Line2D at 0x1c6c9157550>],\n",
       " 'caps': [<matplotlib.lines.Line2D at 0x1c6c9157f60>,\n",
       "  <matplotlib.lines.Line2D at 0x1c6c91643c8>],\n",
       " 'fliers': [<matplotlib.lines.Line2D at 0x1c6c9164c18>],\n",
       " 'means': [],\n",
       " 'medians': [<matplotlib.lines.Line2D at 0x1c6c91647f0>],\n",
       " 'whiskers': [<matplotlib.lines.Line2D at 0x1c6c91576a0>,\n",
       "  <matplotlib.lines.Line2D at 0x1c6c9157b38>]}"
      ]
     },
     "execution_count": 9,
     "metadata": {},
     "output_type": "execute_result"
    },
    {
     "data": {
      "image/png": "[encoded data removed]",
      "text/plain": [
       "<matplotlib.figure.Figure at 0x1c6c9189780>"
      ]
     },
     "metadata": {},
     "output_type": "display_data"
    }
   ],
   "source": [
    "plt.boxplot(Numeric['Transportation expense'])"
   ]
  },
  {
   "cell_type": "code",
   "execution_count": 10,
   "metadata": {},
   "outputs": [
    {
     "data": {
      "text/plain": [
       "{'boxes': [<matplotlib.lines.Line2D at 0x1c6c950b908>],\n",
       " 'caps': [<matplotlib.lines.Line2D at 0x1c6c9513358>,\n",
       "  <matplotlib.lines.Line2D at 0x1c6c9513780>],\n",
       " 'fliers': [<matplotlib.lines.Line2D at 0x1c6c9513fd0>],\n",
       " 'means': [],\n",
       " 'medians': [<matplotlib.lines.Line2D at 0x1c6c9513ba8>],\n",
       " 'whiskers': [<matplotlib.lines.Line2D at 0x1c6c950ba58>,\n",
       "  <matplotlib.lines.Line2D at 0x1c6c950bef0>]}"
      ]
     },
     "execution_count": 10,
     "metadata": {},
     "output_type": "execute_result"
    },
    {
     "data": {
      "image/png": "[encoded data removed]",
      "text/plain": [
       "<matplotlib.figure.Figure at 0x1c6c90b65c0>"
      ]
     },
     "metadata": {},
     "output_type": "display_data"
    }
   ],
   "source": [
    "plt.boxplot(Numeric['Distance from Residence to Work'])"
   ]
  },
  {
   "cell_type": "code",
   "execution_count": 11,
   "metadata": {},
   "outputs": [
    {
     "data": {
      "text/plain": [
       "{'boxes': [<matplotlib.lines.Line2D at 0x1c6c9563828>],\n",
       " 'caps': [<matplotlib.lines.Line2D at 0x1c6c956c278>,\n",
       "  <matplotlib.lines.Line2D at 0x1c6c956c6a0>],\n",
       " 'fliers': [<matplotlib.lines.Line2D at 0x1c6c956cef0>],\n",
       " 'means': [],\n",
       " 'medians': [<matplotlib.lines.Line2D at 0x1c6c956cac8>],\n",
       " 'whiskers': [<matplotlib.lines.Line2D at 0x1c6c9563978>,\n",
       "  <matplotlib.lines.Line2D at 0x1c6c9563e10>]}"
      ]
     },
     "execution_count": 11,
     "metadata": {},
     "output_type": "execute_result"
    },
    {
     "data": {
      "image/png": "[encoded data removed]",
      "text/plain": [
       "<matplotlib.figure.Figure at 0x1c6c94d4780>"
      ]
     },
     "metadata": {},
     "output_type": "display_data"
    }
   ],
   "source": [
    "plt.boxplot(Numeric['Service time'])"
   ]
  },
  {
   "cell_type": "code",
   "execution_count": 12,
   "metadata": {},
   "outputs": [
    {
     "data": {
      "text/plain": [
       "{'boxes': [<matplotlib.lines.Line2D at 0x1c6c95c9198>],\n",
       " 'caps': [<matplotlib.lines.Line2D at 0x1c6c95c9ba8>,\n",
       "  <matplotlib.lines.Line2D at 0x1c6c95c9fd0>],\n",
       " 'fliers': [<matplotlib.lines.Line2D at 0x1c6c95d1860>],\n",
       " 'means': [],\n",
       " 'medians': [<matplotlib.lines.Line2D at 0x1c6c95d1438>],\n",
       " 'whiskers': [<matplotlib.lines.Line2D at 0x1c6c95c92e8>,\n",
       "  <matplotlib.lines.Line2D at 0x1c6c95c9780>]}"
      ]
     },
     "execution_count": 12,
     "metadata": {},
     "output_type": "execute_result"
    },
    {
     "data": {
      "image/png": "[encoded data removed]",
      "text/plain": [
       "<matplotlib.figure.Figure at 0x1c6c95832e8>"
      ]
     },
     "metadata": {},
     "output_type": "display_data"
    }
   ],
   "source": [
    "plt.boxplot(Numeric['Age'])"
   ]
  },
  {
   "cell_type": "code",
   "execution_count": 13,
   "metadata": {},
   "outputs": [
    {
     "data": {
      "text/plain": [
       "{'boxes': [<matplotlib.lines.Line2D at 0x1c6c96294e0>],\n",
       " 'caps': [<matplotlib.lines.Line2D at 0x1c6c9629ef0>,\n",
       "  <matplotlib.lines.Line2D at 0x1c6c9631358>],\n",
       " 'fliers': [<matplotlib.lines.Line2D at 0x1c6c9631ba8>],\n",
       " 'means': [],\n",
       " 'medians': [<matplotlib.lines.Line2D at 0x1c6c9631780>],\n",
       " 'whiskers': [<matplotlib.lines.Line2D at 0x1c6c9629630>,\n",
       "  <matplotlib.lines.Line2D at 0x1c6c9629ac8>]}"
      ]
     },
     "execution_count": 13,
     "metadata": {},
     "output_type": "execute_result"
    },
    {
     "data": {
      "image/png": "[encoded data removed]",
      "text/plain": [
       "<matplotlib.figure.Figure at 0x1c6c95e10f0>"
      ]
     },
     "metadata": {},
     "output_type": "display_data"
    }
   ],
   "source": [
    "plt.boxplot(Numeric['Work load Average/day '])"
   ]
  },
  {
   "cell_type": "code",
   "execution_count": 14,
   "metadata": {},
   "outputs": [
    {
     "data": {
      "text/plain": [
       "{'boxes': [<matplotlib.lines.Line2D at 0x1c6c968e240>],\n",
       " 'caps': [<matplotlib.lines.Line2D at 0x1c6c968ec50>,\n",
       "  <matplotlib.lines.Line2D at 0x1c6c96970b8>],\n",
       " 'fliers': [<matplotlib.lines.Line2D at 0x1c6c9697908>],\n",
       " 'means': [],\n",
       " 'medians': [<matplotlib.lines.Line2D at 0x1c6c96974e0>],\n",
       " 'whiskers': [<matplotlib.lines.Line2D at 0x1c6c968e390>,\n",
       "  <matplotlib.lines.Line2D at 0x1c6c968e828>]}"
      ]
     },
     "execution_count": 14,
     "metadata": {},
     "output_type": "execute_result"
    },
    {
     "data": {
      "image/png": "[encoded data removed]",
      "text/plain": [
       "<matplotlib.figure.Figure at 0x1c6c95f5b00>"
      ]
     },
     "metadata": {},
     "output_type": "display_data"
    }
   ],
   "source": [
    "plt.boxplot(Numeric['Hit target'])"
   ]
  },
  {
   "cell_type": "code",
   "execution_count": 15,
   "metadata": {},
   "outputs": [
    {
     "data": {
      "text/plain": [
       "{'boxes': [<matplotlib.lines.Line2D at 0x1c6c96effd0>],\n",
       " 'caps': [<matplotlib.lines.Line2D at 0x1c6c96f7a20>,\n",
       "  <matplotlib.lines.Line2D at 0x1c6c96f7e48>],\n",
       " 'fliers': [<matplotlib.lines.Line2D at 0x1c6c97006d8>],\n",
       " 'means': [],\n",
       " 'medians': [<matplotlib.lines.Line2D at 0x1c6c97002b0>],\n",
       " 'whiskers': [<matplotlib.lines.Line2D at 0x1c6c96f7160>,\n",
       "  <matplotlib.lines.Line2D at 0x1c6c96f75f8>]}"
      ]
     },
     "execution_count": 15,
     "metadata": {},
     "output_type": "execute_result"
    },
    {
     "data": {
      "image/png": "[encoded data removed]",
      "text/plain": [
       "<matplotlib.figure.Figure at 0x1c6c9668668>"
      ]
     },
     "metadata": {},
     "output_type": "display_data"
    }
   ],
   "source": [
    "plt.boxplot(Numeric['Son'])"
   ]
  },
  {
   "cell_type": "code",
   "execution_count": 16,
   "metadata": {},
   "outputs": [
    {
     "data": {
      "text/plain": [
       "{'boxes': [<matplotlib.lines.Line2D at 0x1c6c975f198>],\n",
       " 'caps': [<matplotlib.lines.Line2D at 0x1c6c975fba8>,\n",
       "  <matplotlib.lines.Line2D at 0x1c6c975ffd0>],\n",
       " 'fliers': [<matplotlib.lines.Line2D at 0x1c6c9768860>],\n",
       " 'means': [],\n",
       " 'medians': [<matplotlib.lines.Line2D at 0x1c6c9768438>],\n",
       " 'whiskers': [<matplotlib.lines.Line2D at 0x1c6c975f2e8>,\n",
       "  <matplotlib.lines.Line2D at 0x1c6c975f780>]}"
      ]
     },
     "execution_count": 16,
     "metadata": {},
     "output_type": "execute_result"
    },
    {
     "data": {
      "image/png": "[encoded data removed]",
      "text/plain": [
       "<matplotlib.figure.Figure at 0x1c6c97052e8>"
      ]
     },
     "metadata": {},
     "output_type": "display_data"
    }
   ],
   "source": [
    "plt.boxplot(Numeric['Pet'])"
   ]
  },
  {
   "cell_type": "code",
   "execution_count": 17,
   "metadata": {},
   "outputs": [
    {
     "data": {
      "text/plain": [
       "{'boxes': [<matplotlib.lines.Line2D at 0x1c6c9b1ff60>],\n",
       " 'caps': [<matplotlib.lines.Line2D at 0x1c6c9b279b0>,\n",
       "  <matplotlib.lines.Line2D at 0x1c6c9b27dd8>],\n",
       " 'fliers': [<matplotlib.lines.Line2D at 0x1c6c9b30668>],\n",
       " 'means': [],\n",
       " 'medians': [<matplotlib.lines.Line2D at 0x1c6c9b30240>],\n",
       " 'whiskers': [<matplotlib.lines.Line2D at 0x1c6c9b270f0>,\n",
       "  <matplotlib.lines.Line2D at 0x1c6c9b27588>]}"
      ]
     },
     "execution_count": 17,
     "metadata": {},
     "output_type": "execute_result"
    },
    {
     "data": {
      "image/png": "[encoded data removed]",
      "text/plain": [
       "<matplotlib.figure.Figure at 0x1c6c971b6a0>"
      ]
     },
     "metadata": {},
     "output_type": "display_data"
    }
   ],
   "source": [
    "plt.boxplot(Numeric['Height'])"
   ]
  },
  {
   "cell_type": "code",
   "execution_count": 18,
   "metadata": {},
   "outputs": [
    {
     "data": {
      "text/plain": [
       "{'boxes': [<matplotlib.lines.Line2D at 0x1c6c9b86780>],\n",
       " 'caps': [<matplotlib.lines.Line2D at 0x1c6c9b8d1d0>,\n",
       "  <matplotlib.lines.Line2D at 0x1c6c9b8d5f8>],\n",
       " 'fliers': [<matplotlib.lines.Line2D at 0x1c6c9b8de48>],\n",
       " 'means': [],\n",
       " 'medians': [<matplotlib.lines.Line2D at 0x1c6c9b8da20>],\n",
       " 'whiskers': [<matplotlib.lines.Line2D at 0x1c6c9b868d0>,\n",
       "  <matplotlib.lines.Line2D at 0x1c6c9b86d68>]}"
      ]
     },
     "execution_count": 18,
     "metadata": {},
     "output_type": "execute_result"
    },
    {
     "data": {
      "image/png": "[encoded data removed]",
      "text/plain": [
       "<matplotlib.figure.Figure at 0x1c6c9afcf28>"
      ]
     },
     "metadata": {},
     "output_type": "display_data"
    }
   ],
   "source": [
    "plt.boxplot(Numeric['Body mass index'])"
   ]
  },
  {
   "cell_type": "markdown",
   "metadata": {},
   "source": [
    "# Making Set Of Numerical Columns have Outliers Present in it according to Box Plot"
   ]
  },
  {
   "cell_type": "code",
   "execution_count": 19,
   "metadata": {},
   "outputs": [
    {
     "data": {
      "text/plain": [
       "Index(['ID', 'Reason for absence', 'Month of absence', 'Day of the week',\n",
       "       'Seasons', 'Transportation expense', 'Distance from Residence to Work',\n",
       "       'Service time', 'Age', 'Work load Average/day ', 'Hit target',\n",
       "       'Disciplinary failure', 'Education', 'Son', 'Social drinker',\n",
       "       'Social smoker', 'Pet', 'Weight', 'Height', 'Body mass index',\n",
       "       'Absenteeism time in hours'],\n",
       "      dtype='object')"
      ]
     },
     "execution_count": 19,
     "metadata": {},
     "output_type": "execute_result"
    }
   ],
   "source": [
    "Absent.columns"
   ]
  },
  {
   "cell_type": "code",
   "execution_count": 20,
   "metadata": {
    "collapsed": true
   },
   "outputs": [],
   "source": [
    "Outlier = Absent[['Transportation expense','Service time','Age','Work load Average/day ','Hit target','Pet',\n",
    "           'Height','Absenteeism time in hours']]"
   ]
  },
  {
   "cell_type": "markdown",
   "metadata": {},
   "source": [
    "# Detect Outlier in our Numerical Variable"
   ]
  },
  {
   "cell_type": "code",
   "execution_count": 21,
   "metadata": {},
   "outputs": [
    {
     "name": "stdout",
     "output_type": "stream",
     "text": [
      "Transportation expense\n",
      "57.5\n",
      "381.5\n",
      "Service time\n",
      "-1.5\n",
      "26.5\n",
      "Age\n",
      "17.5\n",
      "53.5\n",
      "Work load Average/day \n",
      "183688.0\n",
      "345552.0\n",
      "Hit target\n",
      "87.0\n",
      "103.0\n",
      "Pet\n",
      "-1.5\n",
      "2.5\n",
      "Height\n",
      "164.5\n",
      "176.5\n",
      "Absenteeism time in hours\n",
      "-7.0\n",
      "17.0\n"
     ]
    }
   ],
   "source": [
    "for i in Outlier:\n",
    "    print(i)\n",
    "    q75, q25 = np.percentile(Outlier.loc[:,i], [75 ,25])\n",
    "    iqr = q75 - q25\n",
    "\n",
    "    min = q25 - (iqr*1.5)\n",
    "    max = q75 + (iqr*1.5)\n",
    "    print(min)\n",
    "    print(max)"
   ]
  },
  {
   "cell_type": "markdown",
   "metadata": {},
   "source": [
    "# Outlier imputation using NA technique"
   ]
  },
  {
   "cell_type": "code",
   "execution_count": 22,
   "metadata": {
    "collapsed": true
   },
   "outputs": [],
   "source": [
    "#Replace with NA\n",
    "#Extract quartiles\n",
    "q75, q25 = np.percentile(Absent['Transportation expense'], [75 ,25])\n",
    "\n",
    "#Calculate IQR\n",
    "iqr = q75 - q25\n",
    "\n",
    "#Calculate inner and outer fence\n",
    "minimum = q25 - (iqr*1.5)\n",
    "maximum = q75 + (iqr*1.5)\n",
    "\n",
    "#Replace with NA\n",
    "Absent.loc[Absent['Transportation expense'] < minimum,:'Transportation expense'] = np.nan\n",
    "Absent.loc[Absent['Transportation expense'] > maximum,:'Transportation expense'] = np.nan"
   ]
  },
  {
   "cell_type": "code",
   "execution_count": 23,
   "metadata": {
    "collapsed": true
   },
   "outputs": [],
   "source": [
    "#Detect and replace with NA\n",
    "#Extract quartiles\n",
    "q75, q25 = np.percentile(Absent['Service time'], [75 ,25])\n",
    "\n",
    "#Calculate IQR\n",
    "iqr = q75 - q25\n",
    "\n",
    "#Calculate inner and outer fence\n",
    "minimum = q25 - (iqr*1.5)\n",
    "maximum = q75 + (iqr*1.5)\n",
    "\n",
    "#Replace with NA\n",
    "Absent.loc[Absent['Service time'] < minimum,:'Service time'] = np.nan\n",
    "Absent.loc[Absent['Service time'] > maximum,:'Service time'] = np.nan"
   ]
  },
  {
   "cell_type": "code",
   "execution_count": 24,
   "metadata": {
    "collapsed": true
   },
   "outputs": [],
   "source": [
    "#Detect and replace with NA\n",
    "#Extract quartiles\n",
    "q75, q25 = np.percentile(Absent['Age'], [75 ,25])\n",
    "\n",
    "#Calculate IQR\n",
    "iqr = q75 - q25\n",
    "\n",
    "#Calculate inner and outer fence\n",
    "minimum = q25 - (iqr*1.5)\n",
    "maximum = q75 + (iqr*1.5)\n",
    "\n",
    "#Replace with NA\n",
    "Absent.loc[Absent['Age'] < minimum,:'Age'] = np.nan\n",
    "Absent.loc[Absent['Age'] > maximum,:'Age'] = np.nan"
   ]
  },
  {
   "cell_type": "code",
   "execution_count": 25,
   "metadata": {
    "collapsed": true
   },
   "outputs": [],
   "source": [
    "#Detect and replace with NA\n",
    "#Extract quartiles\n",
    "q75, q25 = np.percentile(Absent['Work load Average/day '], [75 ,25])\n",
    "\n",
    "#Calculate IQR\n",
    "iqr = q75 - q25\n",
    "\n",
    "#Calculate inner and outer fence\n",
    "minimum = q25 - (iqr*1.5)\n",
    "maximum = q75 + (iqr*1.5)\n",
    "\n",
    "#Replace with NA\n",
    "Absent.loc[Absent['Work load Average/day '] < minimum,:'Work load Average/day '] = np.nan\n",
    "Absent.loc[Absent['Work load Average/day '] > maximum,:'Work load Average/day '] = np.nan"
   ]
  },
  {
   "cell_type": "code",
   "execution_count": 26,
   "metadata": {
    "collapsed": true
   },
   "outputs": [],
   "source": [
    "#Detect and replace with NA\n",
    "#Extract quartiles\n",
    "q75, q25 = np.percentile(Absent['Hit target'], [75 ,25])\n",
    "\n",
    "#Calculate IQR\n",
    "iqr = q75 - q25\n",
    "\n",
    "#Calculate inner and outer fence\n",
    "minimum = q25 - (iqr*1.5)\n",
    "maximum = q75 + (iqr*1.5)\n",
    "\n",
    "#Replace with NA\n",
    "Absent.loc[Absent['Hit target'] < minimum,:'Hit target'] = np.nan\n",
    "Absent.loc[Absent['Hit target'] > maximum,:'Hit target'] = np.nan"
   ]
  },
  {
   "cell_type": "code",
   "execution_count": 27,
   "metadata": {
    "collapsed": true
   },
   "outputs": [],
   "source": [
    "#Detect and replace with NA\n",
    "#Extract quartiles\n",
    "q75, q25 = np.percentile(Absent['Pet'], [75 ,25])\n",
    "\n",
    "#Calculate IQR\n",
    "iqr = q75 - q25\n",
    "\n",
    "#Calculate inner and outer fence\n",
    "minimum = q25 - (iqr*1.5)\n",
    "maximum = q75 + (iqr*1.5)\n",
    "\n",
    "#Replace with NA\n",
    "Absent.loc[Absent['Pet'] < minimum,:'Pet'] = np.nan\n",
    "Absent.loc[Absent['Pet'] > maximum,:'Pet'] = np.nan"
   ]
  },
  {
   "cell_type": "code",
   "execution_count": 28,
   "metadata": {
    "collapsed": true
   },
   "outputs": [],
   "source": [
    "#Detect and replace with NA\n",
    "#Extract quartiles\n",
    "q75, q25 = np.percentile(Absent['Height'], [75 ,25])\n",
    "\n",
    "#Calculate IQR\n",
    "iqr = q75 - q25\n",
    "\n",
    "#Calculate inner and outer fence\n",
    "minimum = q25 - (iqr*1.5)\n",
    "maximum = q75 + (iqr*1.5)\n",
    "\n",
    "#Replace with NA\n",
    "Absent.loc[Absent['Height'] < minimum,:'Height'] = np.nan\n",
    "Absent.loc[Absent['Height'] > maximum,:'Height'] = np.nan"
   ]
  },
  {
   "cell_type": "markdown",
   "metadata": {
    "collapsed": true
   },
   "source": [
    "# Imputing Median for NA obtained from Outliers"
   ]
  },
  {
   "cell_type": "code",
   "execution_count": 30,
   "metadata": {},
   "outputs": [],
   "source": [
    "Absent['Reason for absence'] = Absent['Reason for absence'].fillna(Absent['Reason for absence'].median())\n",
    "Absent['Month of absence'] = Absent['Month of absence'].fillna(Absent['Month of absence'].median())\n",
    "Absent['Transportation expense'] = Absent['Transportation expense'].fillna(Absent['Transportation expense'].median())\n",
    "Absent['Distance from Residence to Work'] = Absent['Distance from Residence to Work'].fillna(Absent['Distance from Residence to Work'].median())\n",
    "Absent['Service time']= Absent['Service time'].fillna(Absent['Service time'].median())\n",
    "Absent['Age'] = Absent['Age'].fillna(Absent['Age'].median())\n",
    "Absent['Work load Average/day ']= Absent['Work load Average/day '].fillna(Absent['Work load Average/day '].median())\n",
    "Absent['Hit target']= Absent['Hit target'].fillna(Absent['Hit target'].median())\n",
    "Absent['Disciplinary failure']= Absent['Disciplinary failure'].fillna(Absent['Disciplinary failure'].median())\n",
    "Absent['Education']= Absent['Education'].fillna(Absent['Education'].median())\n",
    "Absent['Son']= Absent['Son'].fillna(Absent['Son'].median())\n",
    "Absent['Social drinker']= Absent['Social drinker'].fillna(Absent['Social drinker'].median())\n",
    "Absent['Social smoker']= Absent['Social smoker'].fillna(Absent['Social smoker'].median())\n",
    "Absent['Pet']= Absent['Pet'].fillna(Absent['Pet'].median())\n",
    "Absent['Weight']= Absent['Weight'].fillna(Absent['Weight'].median())\n",
    "Absent['Height']= Absent['Height'].fillna(Absent['Height'].median())\n",
    "Absent['Body mass index']= Absent['Body mass index'].fillna(Absent['Body mass index'].median())\n",
    "Absent['Absenteeism time in hours']= Absent['Absenteeism time in hours'].fillna(Absent['Absenteeism time in hours'].median())"
   ]
  },
  {
   "cell_type": "code",
   "execution_count": 31,
   "metadata": {},
   "outputs": [],
   "source": [
    "Absent['Reason for absence'] = Absent['Reason for absence'].astype(int)\n",
    "Absent['Month of absence'] = Absent['Month of absence'].astype(int)\n",
    "Absent['Transportation expense'] = Absent['Transportation expense'].astype(int)\n",
    "Absent['Distance from Residence to Work'] = Absent['Distance from Residence to Work'].astype(int)\n",
    "Absent['Service time'] = Absent['Service time'].astype(int)\n",
    "Absent['Age'] = Absent['Age'].astype(int)\n",
    "Absent['Work load Average/day '] = Absent['Work load Average/day '].astype(int)\n",
    "Absent['Hit target'] = Absent['Hit target'].astype(int)\n",
    "Absent['Disciplinary failure'] = Absent['Disciplinary failure'].astype(int)\n",
    "Absent['Education'] = Absent['Education'].astype(int)\n",
    "Absent['Son'] = Absent['Son'].astype(int)\n",
    "Absent['Age'] = Absent['Age'].astype(int)\n",
    "Absent['Social drinker'] = Absent['Social drinker'].astype(int)\n",
    "Absent['Social smoker'] = Absent['Social smoker'].astype(int)\n",
    "Absent['Pet'] = Absent['Pet'].astype(int)\n",
    "Absent['Weight'] = Absent['Weight'].astype(int)\n",
    "Absent['Height'] = Absent['Height'].astype(int)\n",
    "Absent['Body mass index'] = Absent['Body mass index'].astype(int)\n",
    "Absent['Absenteeism time in hours'] = Absent['Absenteeism time in hours'].astype(int)"
   ]
  },
  {
   "cell_type": "code",
   "execution_count": 32,
   "metadata": {
    "collapsed": true
   },
   "outputs": [],
   "source": [
    "Absent['Reason for absence'] = Absent['Reason for absence'].astype('category')\n",
    "Absent['Month of absence'] = Absent['Month of absence'].astype('category')\n",
    "Absent['Day of the week'] = Absent['Day of the week'].astype('category')\n",
    "Absent['Seasons'] = Absent['Seasons'].astype('category')\n",
    "Absent['Disciplinary failure'] = Absent['Disciplinary failure'].astype('category')\n",
    "Absent['Education'] = Absent['Education'].astype('category')\n",
    "Absent['Social drinker'] = Absent['Social drinker'].astype('category')\n",
    "Absent['Social smoker'] = Absent['Social smoker'].astype('category')"
   ]
  },
  {
   "cell_type": "code",
   "execution_count": 33,
   "metadata": {
    "collapsed": true
   },
   "outputs": [],
   "source": [
    "Absent['ID'] = Absenteeism['ID']\n",
    "Absent['Day of the week'] = Absenteeism['Day of the week']\n",
    "Absent['Seasons'] = Absenteeism['Seasons']"
   ]
  },
  {
   "cell_type": "markdown",
   "metadata": {},
   "source": [
    "# Cross Checking Missing Data"
   ]
  },
  {
   "cell_type": "code",
   "execution_count": 34,
   "metadata": {},
   "outputs": [
    {
     "data": {
      "text/html": [
       "<div>\n",
       "<style>\n",
       "    .dataframe thead tr:only-child th {\n",
       "        text-align: right;\n",
       "    }\n",
       "\n",
       "    .dataframe thead th {\n",
       "        text-align: left;\n",
       "    }\n",
       "\n",
       "    .dataframe tbody tr th {\n",
       "        vertical-align: top;\n",
       "    }\n",
       "</style>\n",
       "<table border=\"1\" class=\"dataframe\">\n",
       "  <thead>\n",
       "    <tr style=\"text-align: right;\">\n",
       "      <th></th>\n",
       "      <th>0</th>\n",
       "    </tr>\n",
       "  </thead>\n",
       "  <tbody>\n",
       "    <tr>\n",
       "      <th>ID</th>\n",
       "      <td>0</td>\n",
       "    </tr>\n",
       "    <tr>\n",
       "      <th>Reason for absence</th>\n",
       "      <td>0</td>\n",
       "    </tr>\n",
       "    <tr>\n",
       "      <th>Month of absence</th>\n",
       "      <td>0</td>\n",
       "    </tr>\n",
       "    <tr>\n",
       "      <th>Day of the week</th>\n",
       "      <td>0</td>\n",
       "    </tr>\n",
       "    <tr>\n",
       "      <th>Seasons</th>\n",
       "      <td>0</td>\n",
       "    </tr>\n",
       "    <tr>\n",
       "      <th>Transportation expense</th>\n",
       "      <td>0</td>\n",
       "    </tr>\n",
       "    <tr>\n",
       "      <th>Distance from Residence to Work</th>\n",
       "      <td>0</td>\n",
       "    </tr>\n",
       "    <tr>\n",
       "      <th>Service time</th>\n",
       "      <td>0</td>\n",
       "    </tr>\n",
       "    <tr>\n",
       "      <th>Age</th>\n",
       "      <td>0</td>\n",
       "    </tr>\n",
       "    <tr>\n",
       "      <th>Work load Average/day</th>\n",
       "      <td>0</td>\n",
       "    </tr>\n",
       "    <tr>\n",
       "      <th>Hit target</th>\n",
       "      <td>0</td>\n",
       "    </tr>\n",
       "    <tr>\n",
       "      <th>Disciplinary failure</th>\n",
       "      <td>0</td>\n",
       "    </tr>\n",
       "    <tr>\n",
       "      <th>Education</th>\n",
       "      <td>0</td>\n",
       "    </tr>\n",
       "    <tr>\n",
       "      <th>Son</th>\n",
       "      <td>0</td>\n",
       "    </tr>\n",
       "    <tr>\n",
       "      <th>Social drinker</th>\n",
       "      <td>0</td>\n",
       "    </tr>\n",
       "    <tr>\n",
       "      <th>Social smoker</th>\n",
       "      <td>0</td>\n",
       "    </tr>\n",
       "    <tr>\n",
       "      <th>Pet</th>\n",
       "      <td>0</td>\n",
       "    </tr>\n",
       "    <tr>\n",
       "      <th>Weight</th>\n",
       "      <td>0</td>\n",
       "    </tr>\n",
       "    <tr>\n",
       "      <th>Height</th>\n",
       "      <td>0</td>\n",
       "    </tr>\n",
       "    <tr>\n",
       "      <th>Body mass index</th>\n",
       "      <td>0</td>\n",
       "    </tr>\n",
       "    <tr>\n",
       "      <th>Absenteeism time in hours</th>\n",
       "      <td>0</td>\n",
       "    </tr>\n",
       "  </tbody>\n",
       "</table>\n",
       "</div>"
      ],
      "text/plain": [
       "                                 0\n",
       "ID                               0\n",
       "Reason for absence               0\n",
       "Month of absence                 0\n",
       "Day of the week                  0\n",
       "Seasons                          0\n",
       "Transportation expense           0\n",
       "Distance from Residence to Work  0\n",
       "Service time                     0\n",
       "Age                              0\n",
       "Work load Average/day            0\n",
       "Hit target                       0\n",
       "Disciplinary failure             0\n",
       "Education                        0\n",
       "Son                              0\n",
       "Social drinker                   0\n",
       "Social smoker                    0\n",
       "Pet                              0\n",
       "Weight                           0\n",
       "Height                           0\n",
       "Body mass index                  0\n",
       "Absenteeism time in hours        0"
      ]
     },
     "execution_count": 34,
     "metadata": {},
     "output_type": "execute_result"
    }
   ],
   "source": [
    "Missing = pd.DataFrame(Absent.isnull().sum())\n",
    "Missing"
   ]
  },
  {
   "cell_type": "markdown",
   "metadata": {},
   "source": [
    "# Creating Set Of Numerical Data to find Correlation Between all the data"
   ]
  },
  {
   "cell_type": "code",
   "execution_count": 36,
   "metadata": {
    "collapsed": true
   },
   "outputs": [],
   "source": [
    "Numerical = Absent[['ID','Transportation expense', 'Distance from Residence to Work',\n",
    "       'Service time', 'Age', 'Work load Average/day ', 'Hit target', 'Son',\n",
    "       'Pet', 'Weight', 'Height', 'Body mass index']]"
   ]
  },
  {
   "cell_type": "code",
   "execution_count": 37,
   "metadata": {
    "collapsed": true
   },
   "outputs": [],
   "source": [
    "corr = Numerical.corr()"
   ]
  },
  {
   "cell_type": "code",
   "execution_count": 40,
   "metadata": {},
   "outputs": [
    {
     "data": {
      "text/plain": [
       "<matplotlib.axes._subplots.AxesSubplot at 0x1c6ca091dd8>"
      ]
     },
     "execution_count": 40,
     "metadata": {},
     "output_type": "execute_result"
    },
    {
     "data": {
      "image/png": "[encoded data removed]",
      "text/plain": [
       "<matplotlib.figure.Figure at 0x1c6c9e0d0b8>"
      ]
     },
     "metadata": {},
     "output_type": "display_data"
    }
   ],
   "source": [
    "#Set the width and hieght of the plot\n",
    "f, ax = plt.subplots(figsize=(10, 8))\n",
    "\n",
    "#Plot using seaborn library\n",
    "sns.heatmap(corr, mask=np.zeros_like(corr, dtype=np.bool), cmap='rainbow',annot=True,\n",
    "            square=True, ax=ax)"
   ]
  },
  {
   "cell_type": "markdown",
   "metadata": {
    "collapsed": true
   },
   "source": [
    "# Selecting ALL Feature Variable as X and Target VAriable as Y for Selecting Important Feature"
   ]
  },
  {
   "cell_type": "code",
   "execution_count": 41,
   "metadata": {
    "collapsed": true
   },
   "outputs": [],
   "source": [
    "x = Absent[['Reason for absence', 'Month of absence', 'Day of the week',\n",
    "       'Seasons', 'Transportation expense', 'Distance from Residence to Work',\n",
    "       'Service time', 'Age', 'Work load Average/day ', 'Hit target',\n",
    "       'Disciplinary failure', 'Son', 'Social drinker',\n",
    "       'Pet', 'Height', 'Body mass index']]\n",
    "y = Absent['Absenteeism time in hours']"
   ]
  },
  {
   "cell_type": "markdown",
   "metadata": {},
   "source": [
    "# Implementing Random Forest to select Important Feature Variable in DataSet"
   ]
  },
  {
   "cell_type": "code",
   "execution_count": 42,
   "metadata": {
    "collapsed": true
   },
   "outputs": [],
   "source": [
    "from sklearn.ensemble import RandomForestClassifier\n",
    "from sklearn.model_selection import train_test_split\n",
    "from sklearn.feature_selection import SelectFromModel\n",
    "from sklearn.metrics import accuracy_score"
   ]
  },
  {
   "cell_type": "code",
   "execution_count": 43,
   "metadata": {
    "collapsed": true
   },
   "outputs": [],
   "source": [
    "# Create a list of feature names\n",
    "feat_labels = ['Reason for absence', 'Month of absence', 'Day of the week',\n",
    "       'Seasons', 'Transportation expense', 'Distance from Residence to Work',\n",
    "       'Service time', 'Age', 'Work load Average/day ', 'Hit target',\n",
    "       'Disciplinary failure', 'Education', 'Son', 'Social drinker',\n",
    "       'Social smoker', 'Pet', 'Weight', 'Height', 'Body mass index']\n",
    "\n",
    "# Create X from the features\n",
    "X = Absent[['Reason for absence', 'Month of absence', 'Day of the week',\n",
    "       'Seasons', 'Transportation expense', 'Distance from Residence to Work',\n",
    "       'Service time', 'Age', 'Work load Average/day ', 'Hit target',\n",
    "       'Disciplinary failure', 'Education', 'Son', 'Social drinker',\n",
    "       'Social smoker', 'Pet', 'Weight', 'Height', 'Body mass index']]\n",
    "\n",
    "# Create y from output\n",
    "y = Absent['Absenteeism time in hours']"
   ]
  },
  {
   "cell_type": "code",
   "execution_count": 44,
   "metadata": {},
   "outputs": [],
   "source": [
    "X_train, X_test, y_train, y_test = train_test_split(X, y, test_size=0.4, random_state=0)"
   ]
  },
  {
   "cell_type": "markdown",
   "metadata": {},
   "source": [
    "# Performing Random Forest with all the variable to see Acccuracy with 1000 Tree"
   ]
  },
  {
   "cell_type": "markdown",
   "metadata": {},
   "source": [
    "Random Forest 1000 Tree"
   ]
  },
  {
   "cell_type": "code",
   "execution_count": 45,
   "metadata": {},
   "outputs": [
    {
     "name": "stdout",
     "output_type": "stream",
     "text": [
      "('Reason for absence', 0.12744277496368134)\n",
      "('Month of absence', 0.0840459160142815)\n",
      "('Day of the week', 0.15233795015755905)\n",
      "('Seasons', 0.09080363898529793)\n",
      "('Transportation expense', 0.027119875373918956)\n",
      "('Distance from Residence to Work', 0.02575460765295955)\n",
      "('Service time', 0.030821401685075574)\n",
      "('Age', 0.03168871434706513)\n",
      "('Work load Average/day ', 0.10801811858140148)\n",
      "('Hit target', 0.09011684649258973)\n",
      "('Disciplinary failure', 0.028280942019524854)\n",
      "('Education', 0.006407526901912053)\n",
      "('Son', 0.025969440117721482)\n",
      "('Social drinker', 0.010407367854049929)\n",
      "('Social smoker', 0.0032981193198669883)\n",
      "('Pet', 0.014779914910736783)\n",
      "('Weight', 0.03774733688616573)\n",
      "('Height', 0.03562808862977284)\n",
      "('Body mass index', 0.06933141910641928)\n"
     ]
    }
   ],
   "source": [
    "# Create a random forest classifier\n",
    "clf = RandomForestClassifier(n_estimators=1000, random_state=0, n_jobs=-1)\n",
    "\n",
    "# Train the classifier\n",
    "clf.fit(X_train, y_train)\n",
    "\n",
    "# Print the name and gini importance of each feature\n",
    "for feature in zip(feat_labels, clf.feature_importances_):\n",
    "    print(feature)"
   ]
  },
  {
   "cell_type": "code",
   "execution_count": 47,
   "metadata": {},
   "outputs": [
    {
     "data": {
      "text/plain": [
       "SelectFromModel(estimator=RandomForestClassifier(bootstrap=True, class_weight=None, criterion='gini',\n",
       "            max_depth=None, max_features='auto', max_leaf_nodes=None,\n",
       "            min_impurity_decrease=0.0, min_impurity_split=None,\n",
       "            min_samples_leaf=1, min_samples_split=2,\n",
       "            min_weight_fraction_leaf=0.0, n_estimators=1000, n_jobs=-1,\n",
       "            oob_score=False, random_state=0, verbose=0, warm_start=False),\n",
       "        norm_order=1, prefit=False, threshold=0.029)"
      ]
     },
     "execution_count": 47,
     "metadata": {},
     "output_type": "execute_result"
    }
   ],
   "source": [
    "sfm = SelectFromModel(clf, threshold=0.029)\n",
    "\n",
    "# Train the selector\n",
    "sfm.fit(X_train, y_train)"
   ]
  },
  {
   "cell_type": "markdown",
   "metadata": {},
   "source": [
    "# SElecting Important Feature"
   ]
  },
  {
   "cell_type": "code",
   "execution_count": 49,
   "metadata": {},
   "outputs": [
    {
     "name": "stdout",
     "output_type": "stream",
     "text": [
      "Reason for absence\n",
      "Month of absence\n",
      "Day of the week\n",
      "Seasons\n",
      "Service time\n",
      "Age\n",
      "Work load Average/day \n",
      "Hit target\n",
      "Weight\n",
      "Height\n",
      "Body mass index\n"
     ]
    }
   ],
   "source": [
    "for feature_list_index in sfm.get_support(indices=True):\n",
    "    print(feat_labels[feature_list_index])"
   ]
  },
  {
   "cell_type": "markdown",
   "metadata": {},
   "source": [
    "# Calculating Accuracy with All the feature to Target Variable"
   ]
  },
  {
   "cell_type": "code",
   "execution_count": 51,
   "metadata": {},
   "outputs": [
    {
     "data": {
      "text/plain": [
       "0.3614864864864865"
      ]
     },
     "execution_count": 51,
     "metadata": {},
     "output_type": "execute_result"
    }
   ],
   "source": [
    "# Applying The Full Featured Classifier To The Test Data\n",
    "y_pred = clf.predict(X_test)\n",
    "\n",
    "# Viewing The Accuracy Of Our Full Feature  Model\n",
    "accuracy_score(y_test, y_pred)"
   ]
  },
  {
   "cell_type": "markdown",
   "metadata": {},
   "source": [
    "# Transforming Important Feature to important Data using SelectFromModel Package to check accuracy for importand Variable"
   ]
  },
  {
   "cell_type": "code",
   "execution_count": 52,
   "metadata": {
    "collapsed": true
   },
   "outputs": [],
   "source": [
    "X_important_train = sfm.transform(X_train)\n",
    "X_important_test = sfm.transform(X_test)"
   ]
  },
  {
   "cell_type": "code",
   "execution_count": 54,
   "metadata": {},
   "outputs": [
    {
     "data": {
      "text/plain": [
       "RandomForestClassifier(bootstrap=True, class_weight=None, criterion='gini',\n",
       "            max_depth=None, max_features='auto', max_leaf_nodes=None,\n",
       "            min_impurity_decrease=0.0, min_impurity_split=None,\n",
       "            min_samples_leaf=1, min_samples_split=2,\n",
       "            min_weight_fraction_leaf=0.0, n_estimators=1000, n_jobs=-1,\n",
       "            oob_score=False, random_state=0, verbose=0, warm_start=False)"
      ]
     },
     "execution_count": 54,
     "metadata": {},
     "output_type": "execute_result"
    }
   ],
   "source": [
    "# A new random forest classifier for the most important features\n",
    "clf_important = RandomForestClassifier(n_estimators=1000, random_state=0, n_jobs=-1)\n",
    "\n",
    "# Training new classifier on the new dataset containing the most important features\n",
    "clf_important.fit(X_important_train, y_train)"
   ]
  },
  {
   "cell_type": "markdown",
   "metadata": {},
   "source": [
    "# Accuracy using only Important feature of Dataset"
   ]
  },
  {
   "cell_type": "code",
   "execution_count": 56,
   "metadata": {},
   "outputs": [
    {
     "data": {
      "text/plain": [
       "0.36824324324324326"
      ]
     },
     "execution_count": 56,
     "metadata": {},
     "output_type": "execute_result"
    }
   ],
   "source": [
    "# Apply The Full Featured Classifier To The Test Data\n",
    "y_important_pred = clf_important.predict(X_important_test)\n",
    "\n",
    "# View The Accuracy Of Limited Feature Model\n",
    "accuracy_score(y_test, y_important_pred)"
   ]
  },
  {
   "cell_type": "markdown",
   "metadata": {},
   "source": [
    "Now Here we can see after dropping some unecessary variable from after dataset actuall we gain the accuracy and and now we can use thos Important features to create our model and for further Analysis."
   ]
  },
  {
   "cell_type": "markdown",
   "metadata": {},
   "source": [
    "# Checking RMSE And Accuracy for random forest and Importing Metrics library for perform mathematical metrics on our Model"
   ]
  },
  {
   "cell_type": "code",
   "execution_count": 57,
   "metadata": {
    "collapsed": true
   },
   "outputs": [],
   "source": [
    "from sklearn import metrics"
   ]
  },
  {
   "cell_type": "code",
   "execution_count": 58,
   "metadata": {},
   "outputs": [
    {
     "name": "stdout",
     "output_type": "stream",
     "text": [
      "MAE: 5.422297297297297\n",
      "MSE: 208.13175675675674\n",
      "RMSE: 14.426772222391145\n"
     ]
    }
   ],
   "source": [
    "print('MAE:', metrics.mean_absolute_error(y_test, y_important_pred))\n",
    "print('MSE:', metrics.mean_squared_error(y_test, y_important_pred))\n",
    "print('RMSE:', np.sqrt(metrics.mean_squared_error(y_test, y_important_pred)))"
   ]
  },
  {
   "cell_type": "markdown",
   "metadata": {},
   "source": [
    "Random Forest With Imp. Variable, Error = 14.42 Accuracy = 85.58"
   ]
  },
  {
   "cell_type": "markdown",
   "metadata": {},
   "source": [
    "# Selecting X as our Only Importand Variable and Y as Target for further Analysis for different model."
   ]
  },
  {
   "cell_type": "markdown",
   "metadata": {},
   "source": [
    "Linear Regression"
   ]
  },
  {
   "cell_type": "code",
   "execution_count": 59,
   "metadata": {},
   "outputs": [],
   "source": [
    "New_X = Absent[['Reason for absence' ,'Month of absence','Day of the week','Work load Average/day ','Hit target',\n",
    "                'Height','Body mass index','Pet','Distance from Residence to Work','Service time','Age']]"
   ]
  },
  {
   "cell_type": "code",
   "execution_count": 60,
   "metadata": {
    "collapsed": true
   },
   "outputs": [],
   "source": [
    "New_Y = Absent['Absenteeism time in hours']"
   ]
  },
  {
   "cell_type": "code",
   "execution_count": 61,
   "metadata": {
    "collapsed": true
   },
   "outputs": [],
   "source": [
    "Xtrain,Xtest,Ytrain,Ytest = train_test_split(New_X,New_Y,test_size=0.3)"
   ]
  },
  {
   "cell_type": "code",
   "execution_count": 62,
   "metadata": {
    "collapsed": true
   },
   "outputs": [],
   "source": [
    "from sklearn.linear_model import LinearRegression"
   ]
  },
  {
   "cell_type": "code",
   "execution_count": 63,
   "metadata": {
    "collapsed": true
   },
   "outputs": [],
   "source": [
    "lm = LinearRegression().fit(Xtrain,Ytrain)"
   ]
  },
  {
   "cell_type": "code",
   "execution_count": 64,
   "metadata": {
    "collapsed": true
   },
   "outputs": [],
   "source": [
    "prediction = lm.predict(Xtest)"
   ]
  },
  {
   "cell_type": "code",
   "execution_count": 65,
   "metadata": {},
   "outputs": [
    {
     "name": "stdout",
     "output_type": "stream",
     "text": [
      "MAE: 6.388365142599174\n",
      "MSE: 192.66873448806206\n",
      "RMSE: 13.880516362443512\n"
     ]
    }
   ],
   "source": [
    "print('MAE:', metrics.mean_absolute_error(Ytest, prediction))\n",
    "print('MSE:', metrics.mean_squared_error(Ytest, prediction))\n",
    "print('RMSE:', np.sqrt(metrics.mean_squared_error(Ytest, prediction)))"
   ]
  },
  {
   "cell_type": "markdown",
   "metadata": {},
   "source": [
    "Linear Regression With Imp. Variable, Error = 13.8% Accuracy = 86.2%"
   ]
  },
  {
   "cell_type": "markdown",
   "metadata": {},
   "source": [
    "## Regression Evaluation Metrics\n",
    "\n",
    "\n",
    "Here are three common evaluation metrics for regression problems:\n",
    "\n",
    "**Mean Absolute Error** (MAE) is the mean of the absolute value of the errors:\n",
    "\n",
    "$$\\frac 1n\\sum_{i=1}^n|y_i-\\hat{y}_i|$$\n",
    "\n",
    "**Mean Squared Error** (MSE) is the mean of the squared errors:\n",
    "\n",
    "$$\\frac 1n\\sum_{i=1}^n(y_i-\\hat{y}_i)^2$$\n",
    "\n",
    "**Root Mean Squared Error** (RMSE) is the square root of the mean of the squared errors:\n",
    "\n",
    "$$\\sqrt{\\frac 1n\\sum_{i=1}^n(y_i-\\hat{y}_i)^2}$$\n",
    "\n",
    "Comparing these metrics:\n",
    "\n",
    "- **MAE** is the easiest to understand, because it's the average error.\n",
    "- **MSE** is more popular than MAE, because MSE \"punishes\" larger errors, which tends to be useful in the real world.\n",
    "- **RMSE** is even more popular than MSE, because RMSE is interpretable in the \"y\" units.\n",
    "\n",
    "All of these are **loss functions**, because we want to minimize them."
   ]
  },
  {
   "cell_type": "markdown",
   "metadata": {},
   "source": [
    "Decison Tree"
   ]
  },
  {
   "cell_type": "code",
   "execution_count": 66,
   "metadata": {
    "collapsed": true
   },
   "outputs": [],
   "source": [
    "from sklearn.tree import DecisionTreeRegressor"
   ]
  },
  {
   "cell_type": "code",
   "execution_count": 67,
   "metadata": {},
   "outputs": [],
   "source": [
    "dtree = DecisionTreeRegressor()"
   ]
  },
  {
   "cell_type": "code",
   "execution_count": 68,
   "metadata": {},
   "outputs": [
    {
     "data": {
      "text/plain": [
       "DecisionTreeRegressor(criterion='mse', max_depth=None, max_features=None,\n",
       "           max_leaf_nodes=None, min_impurity_decrease=0.0,\n",
       "           min_impurity_split=None, min_samples_leaf=1,\n",
       "           min_samples_split=2, min_weight_fraction_leaf=0.0,\n",
       "           presort=False, random_state=None, splitter='best')"
      ]
     },
     "execution_count": 68,
     "metadata": {},
     "output_type": "execute_result"
    }
   ],
   "source": [
    "dtree.fit(Xtrain,Ytrain)"
   ]
  },
  {
   "cell_type": "code",
   "execution_count": 69,
   "metadata": {
    "collapsed": true
   },
   "outputs": [],
   "source": [
    "prediction_dtree = dtree.predict(Xtest)"
   ]
  },
  {
   "cell_type": "code",
   "execution_count": 70,
   "metadata": {},
   "outputs": [
    {
     "name": "stdout",
     "output_type": "stream",
     "text": [
      "MAE: 8.746460746460746\n",
      "MSE: 463.7497263419882\n",
      "RMSE: 21.534849113518028\n"
     ]
    }
   ],
   "source": [
    "print('MAE:', metrics.mean_absolute_error(Ytest, prediction_dtree))\n",
    "print('MSE:', metrics.mean_squared_error(Ytest, prediction_dtree))\n",
    "print('RMSE:', np.sqrt(metrics.mean_squared_error(Ytest, prediction_dtree)))"
   ]
  },
  {
   "cell_type": "markdown",
   "metadata": {},
   "source": [
    "Decision Tree Regressor With Imp. Variable, Error = 21.53 Accuracy = 79.47%"
   ]
  },
  {
   "cell_type": "markdown",
   "metadata": {},
   "source": [
    "Random Forest Regressor With N 1000"
   ]
  },
  {
   "cell_type": "code",
   "execution_count": 71,
   "metadata": {
    "collapsed": true
   },
   "outputs": [],
   "source": [
    "from sklearn.ensemble import RandomForestRegressor"
   ]
  },
  {
   "cell_type": "code",
   "execution_count": 72,
   "metadata": {},
   "outputs": [
    {
     "data": {
      "text/plain": [
       "RandomForestRegressor(bootstrap=True, criterion='mse', max_depth=None,\n",
       "           max_features='auto', max_leaf_nodes=None,\n",
       "           min_impurity_decrease=0.0, min_impurity_split=None,\n",
       "           min_samples_leaf=1, min_samples_split=2,\n",
       "           min_weight_fraction_leaf=0.0, n_estimators=1000, n_jobs=-1,\n",
       "           oob_score=False, random_state=0, verbose=0, warm_start=False)"
      ]
     },
     "execution_count": 72,
     "metadata": {},
     "output_type": "execute_result"
    }
   ],
   "source": [
    "# Create a random forest Regressor\n",
    "RFR = RandomForestRegressor(n_estimators=1000, random_state=0, n_jobs=-1)\n",
    "\n",
    "# Train the classifier\n",
    "RFR.fit(Xtrain, Ytrain)"
   ]
  },
  {
   "cell_type": "code",
   "execution_count": 73,
   "metadata": {
    "collapsed": true
   },
   "outputs": [],
   "source": [
    "prediction_RFR = RFR.predict(Xtest)"
   ]
  },
  {
   "cell_type": "code",
   "execution_count": 74,
   "metadata": {},
   "outputs": [
    {
     "name": "stdout",
     "output_type": "stream",
     "text": [
      "MAE: 6.25987765193361\n",
      "MSE: 201.07320359133845\n",
      "RMSE: 14.180028335350338\n"
     ]
    }
   ],
   "source": [
    "print('MAE:', metrics.mean_absolute_error(Ytest, prediction_RFR))\n",
    "print('MSE:', metrics.mean_squared_error(Ytest, prediction_RFR))\n",
    "print('RMSE:', np.sqrt(metrics.mean_squared_error(Ytest, prediction_RFR)))"
   ]
  },
  {
   "cell_type": "markdown",
   "metadata": {},
   "source": [
    "Random Forest Regressor With Imp. Variable, Error = 14.18 Accuracy = 85.82%"
   ]
  },
  {
   "cell_type": "markdown",
   "metadata": {},
   "source": [
    "Random Forest Regressor With N 2000"
   ]
  },
  {
   "cell_type": "code",
   "execution_count": 75,
   "metadata": {},
   "outputs": [],
   "source": [
    "# Create a random forest Regressor\n",
    "RFR = RandomForestRegressor(n_estimators=2000, random_state=0, n_jobs=-1)\n",
    "\n",
    "# Train the classifier\n",
    "RFR.fit(Xtrain, Ytrain)\n",
    "\n",
    "prediction_RFR = RFR.predict(Xtest)"
   ]
  },
  {
   "cell_type": "code",
   "execution_count": 76,
   "metadata": {},
   "outputs": [
    {
     "name": "stdout",
     "output_type": "stream",
     "text": [
      "MAE: 6.3082631292744065\n",
      "MSE: 204.1306463183381\n",
      "RMSE: 14.287429661011043\n"
     ]
    }
   ],
   "source": [
    "print('MAE:', metrics.mean_absolute_error(Ytest, prediction_RFR))\n",
    "print('MSE:', metrics.mean_squared_error(Ytest, prediction_RFR))\n",
    "print('RMSE:', np.sqrt(metrics.mean_squared_error(Ytest, prediction_RFR)))"
   ]
  },
  {
   "cell_type": "markdown",
   "metadata": {},
   "source": [
    "Random Forest Regressor With Imp. Variable, Error = 14.28 Accuracy = 85.72%"
   ]
  },
  {
   "cell_type": "markdown",
   "metadata": {},
   "source": [
    "# Changes Company Should Bring Using Important Feature"
   ]
  },
  {
   "cell_type": "code",
   "execution_count": 78,
   "metadata": {},
   "outputs": [
    {
     "data": {
      "text/html": [
       "<div>\n",
       "<style>\n",
       "    .dataframe thead tr:only-child th {\n",
       "        text-align: right;\n",
       "    }\n",
       "\n",
       "    .dataframe thead th {\n",
       "        text-align: left;\n",
       "    }\n",
       "\n",
       "    .dataframe tbody tr th {\n",
       "        vertical-align: top;\n",
       "    }\n",
       "</style>\n",
       "<table border=\"1\" class=\"dataframe\">\n",
       "  <thead>\n",
       "    <tr style=\"text-align: right;\">\n",
       "      <th></th>\n",
       "      <th>Coefficient</th>\n",
       "    </tr>\n",
       "  </thead>\n",
       "  <tbody>\n",
       "    <tr>\n",
       "      <th>Reason for absence</th>\n",
       "      <td>-0.338175</td>\n",
       "    </tr>\n",
       "    <tr>\n",
       "      <th>Month of absence</th>\n",
       "      <td>0.267631</td>\n",
       "    </tr>\n",
       "    <tr>\n",
       "      <th>Day of the week</th>\n",
       "      <td>-1.342719</td>\n",
       "    </tr>\n",
       "    <tr>\n",
       "      <th>Work load Average/day</th>\n",
       "      <td>0.000015</td>\n",
       "    </tr>\n",
       "    <tr>\n",
       "      <th>Hit target</th>\n",
       "      <td>0.060706</td>\n",
       "    </tr>\n",
       "    <tr>\n",
       "      <th>Height</th>\n",
       "      <td>0.207864</td>\n",
       "    </tr>\n",
       "    <tr>\n",
       "      <th>Body mass index</th>\n",
       "      <td>-0.318145</td>\n",
       "    </tr>\n",
       "    <tr>\n",
       "      <th>Pet</th>\n",
       "      <td>-0.439239</td>\n",
       "    </tr>\n",
       "    <tr>\n",
       "      <th>Distance from Residence to Work</th>\n",
       "      <td>-0.046633</td>\n",
       "    </tr>\n",
       "    <tr>\n",
       "      <th>Service time</th>\n",
       "      <td>0.231435</td>\n",
       "    </tr>\n",
       "    <tr>\n",
       "      <th>Age</th>\n",
       "      <td>0.007219</td>\n",
       "    </tr>\n",
       "  </tbody>\n",
       "</table>\n",
       "</div>"
      ],
      "text/plain": [
       "                                 Coefficient\n",
       "Reason for absence                 -0.338175\n",
       "Month of absence                    0.267631\n",
       "Day of the week                    -1.342719\n",
       "Work load Average/day               0.000015\n",
       "Hit target                          0.060706\n",
       "Height                              0.207864\n",
       "Body mass index                    -0.318145\n",
       "Pet                                -0.439239\n",
       "Distance from Residence to Work    -0.046633\n",
       "Service time                        0.231435\n",
       "Age                                 0.007219"
      ]
     },
     "execution_count": 78,
     "metadata": {},
     "output_type": "execute_result"
    }
   ],
   "source": [
    "coeff_df = pd.DataFrame(lm.coef_,Xtest.columns,columns=['Coefficient'])\n",
    "coeff_df"
   ]
  },
  {
   "cell_type": "markdown",
   "metadata": {},
   "source": [
    "Company need to work on their Work Load, Month,Age,BMI and check if person have pet or not if have then how many."
   ]
  },
  {
   "cell_type": "markdown",
   "metadata": {},
   "source": [
    "# PART 2"
   ]
  },
  {
   "cell_type": "markdown",
   "metadata": {},
   "source": [
    "# Visualization of Data For Analysis"
   ]
  },
  {
   "cell_type": "code",
   "execution_count": 79,
   "metadata": {},
   "outputs": [
    {
     "data": {
      "image/png": "[encoded data removed]",
      "text/plain": [
       "<matplotlib.figure.Figure at 0x1c6eb674128>"
      ]
     },
     "metadata": {},
     "output_type": "display_data"
    }
   ],
   "source": [
    "# Most Common Reason for absence\n",
    "data= pd.concat([Absent['Absenteeism time in hours'], Absent['Reason for absence']], axis =1)\n",
    "f, ax = plt.subplots(figsize=(16, 8))\n",
    "fig = sns.boxplot(x='Reason for absence', y='Absenteeism time in hours', data=data)\n",
    "fig.axis(ymin=0, ymax=20)\n",
    "plt.xticks(rotation=90);\n",
    "plt.show();"
   ]
  },
  {
   "cell_type": "code",
   "execution_count": 80,
   "metadata": {},
   "outputs": [
    {
     "data": {
      "text/plain": [
       "<matplotlib.axes._subplots.AxesSubplot at 0x1c6c9ed70f0>"
      ]
     },
     "execution_count": 80,
     "metadata": {},
     "output_type": "execute_result"
    },
    {
     "data": {
      "image/png": "[encoded data removed]",
      "text/plain": [
       "<matplotlib.figure.Figure at 0x1c6ef7e95f8>"
      ]
     },
     "metadata": {},
     "output_type": "display_data"
    }
   ],
   "source": [
    "sns.set_style('whitegrid')\n",
    "sns.countplot(x='Absenteeism time in hours',data=Absent,palette='RdBu_r')"
   ]
  },
  {
   "cell_type": "code",
   "execution_count": 81,
   "metadata": {},
   "outputs": [
    {
     "data": {
      "image/png": "[encoded data removed]",
      "text/plain": [
       "<matplotlib.figure.Figure at 0x1c6ef85e278>"
      ]
     },
     "metadata": {},
     "output_type": "display_data"
    }
   ],
   "source": [
    "# Most Common Reason for absence\n",
    "data= pd.concat([Absent['Absenteeism time in hours'], Absent['ID']], axis =1)\n",
    "f, ax = plt.subplots(figsize=(16, 8))\n",
    "fig = sns.boxplot(x='ID', y='Absenteeism time in hours', data=data)\n",
    "fig.axis(ymin=0, ymax=20)\n",
    "plt.xticks(rotation=90);\n",
    "plt.show();"
   ]
  },
  {
   "cell_type": "code",
   "execution_count": 82,
   "metadata": {},
   "outputs": [
    {
     "data": {
      "text/plain": [
       "<matplotlib.axes._subplots.AxesSubplot at 0x1c6ef8979b0>"
      ]
     },
     "execution_count": 82,
     "metadata": {},
     "output_type": "execute_result"
    },
    {
     "data": {
      "image/png": "[encoded data removed]",
      "text/plain": [
       "<matplotlib.figure.Figure at 0x1c6efd6fcf8>"
      ]
     },
     "metadata": {},
     "output_type": "display_data"
    }
   ],
   "source": [
    "sns.set_style('whitegrid')\n",
    "sns.countplot(x='Absenteeism time in hours',hue='Month of absence',data=Absent,palette='RdBu_r')"
   ]
  },
  {
   "cell_type": "code",
   "execution_count": 83,
   "metadata": {},
   "outputs": [
    {
     "data": {
      "text/plain": [
       "<matplotlib.axes._subplots.AxesSubplot at 0x1c6ef873b70>"
      ]
     },
     "execution_count": 83,
     "metadata": {},
     "output_type": "execute_result"
    },
    {
     "data": {
      "image/png": "[encoded data removed]",
      "text/plain": [
       "<matplotlib.figure.Figure at 0x1c6f0000b70>"
      ]
     },
     "metadata": {},
     "output_type": "display_data"
    }
   ],
   "source": [
    "sns.distplot(Absent['Age'],kde=True,color='darkred',bins=30)"
   ]
  },
  {
   "cell_type": "code",
   "execution_count": 84,
   "metadata": {},
   "outputs": [
    {
     "data": {
      "text/plain": [
       "<matplotlib.axes._subplots.AxesSubplot at 0x1c6f0359668>"
      ]
     },
     "execution_count": 84,
     "metadata": {},
     "output_type": "execute_result"
    },
    {
     "data": {
      "image/png": "[encoded data removed]",
      "text/plain": [
       "<matplotlib.figure.Figure at 0x1c6f02d4fd0>"
      ]
     },
     "metadata": {},
     "output_type": "display_data"
    }
   ],
   "source": [
    "sns.set_style('whitegrid')\n",
    "sns.countplot(x='Absenteeism time in hours',hue='Age',data=Absent,palette='RdBu_r')"
   ]
  },
  {
   "cell_type": "code",
   "execution_count": 86,
   "metadata": {},
   "outputs": [
    {
     "data": {
      "text/plain": [
       "<matplotlib.axes._subplots.AxesSubplot at 0x1c6ef6a8d68>"
      ]
     },
     "execution_count": 86,
     "metadata": {},
     "output_type": "execute_result"
    },
    {
     "data": {
      "image/png": "[encoded data removed]",
      "text/plain": [
       "<matplotlib.figure.Figure at 0x1c6ef7f7358>"
      ]
     },
     "metadata": {},
     "output_type": "display_data"
    }
   ],
   "source": [
    "sns.set_style('whitegrid')\n",
    "sns.countplot(x='Absenteeism time in hours',hue='Service time',data=Absent,palette='RdBu_r')"
   ]
  },
  {
   "cell_type": "markdown",
   "metadata": {},
   "source": [
    "## Absenteeism Evaluation Metrics\n",
    "\n",
    "\n",
    "Here are three common evaluation metrics for Absenteeism problems:\n",
    "\n",
    "**Absenteeism Time In HR** (AHR)\n",
    "\n",
    "**Work Load Avg/Day** (WL)\n",
    "\n",
    "**Service Time** (ST)\n",
    "\n",
    "**Month Of Absence** (MoA)\n",
    "\n",
    "Calculating metrics:\n",
    "\n",
    "**Work Loss/Month** = WL*AHR / ST\n",
    "\n",
    "**Loss Percent** = Work Loss Month / Work Load Month *100\n"
   ]
  },
  {
   "cell_type": "markdown",
   "metadata": {},
   "source": [
    "# Work Loss/Month"
   ]
  },
  {
   "cell_type": "code",
   "execution_count": 87,
   "metadata": {},
   "outputs": [],
   "source": [
    "NEW_LOSS_DF = Absent[['Month of absence','Absenteeism time in hours','Work load Average/day ','Service time']]"
   ]
  },
  {
   "cell_type": "code",
   "execution_count": 88,
   "metadata": {},
   "outputs": [
    {
     "name": "stderr",
     "output_type": "stream",
     "text": [
      "C:\\Users\\Ghost\\Anaconda3\\lib\\site-packages\\ipykernel_launcher.py:1: SettingWithCopyWarning: \n",
      "A value is trying to be set on a copy of a slice from a DataFrame.\n",
      "Try using .loc[row_indexer,col_indexer] = value instead\n",
      "\n",
      "See the caveats in the documentation: http://pandas.pydata.org/pandas-docs/stable/indexing.html#indexing-view-versus-copy\n",
      "  \"\"\"Entry point for launching an IPython kernel.\n"
     ]
    }
   ],
   "source": [
    "NEW_LOSS_DF[\"Loss\"]=(NEW_LOSS_DF['Work load Average/day ']*NEW_LOSS_DF['Absenteeism time in hours'])/NEW_LOSS_DF['Service time']"
   ]
  },
  {
   "cell_type": "code",
   "execution_count": 89,
   "metadata": {},
   "outputs": [
    {
     "name": "stderr",
     "output_type": "stream",
     "text": [
      "C:\\Users\\Ghost\\Anaconda3\\lib\\site-packages\\ipykernel_launcher.py:1: SettingWithCopyWarning: \n",
      "A value is trying to be set on a copy of a slice from a DataFrame.\n",
      "Try using .loc[row_indexer,col_indexer] = value instead\n",
      "\n",
      "See the caveats in the documentation: http://pandas.pydata.org/pandas-docs/stable/indexing.html#indexing-view-versus-copy\n",
      "  \"\"\"Entry point for launching an IPython kernel.\n"
     ]
    }
   ],
   "source": [
    "NEW_LOSS_DF[\"Loss\"] = np.round(NEW_LOSS_DF[\"Loss\"]).astype('int64')"
   ]
  },
  {
   "cell_type": "code",
   "execution_count": 91,
   "metadata": {},
   "outputs": [],
   "source": [
    "Jan = NEW_LOSS_DF[NEW_LOSS_DF['Month of absence'] == 1]['Loss'].sum()\n",
    "Feb = NEW_LOSS_DF[NEW_LOSS_DF['Month of absence'] == 2]['Loss'].sum()\n",
    "Mar = NEW_LOSS_DF[NEW_LOSS_DF['Month of absence'] == 3]['Loss'].sum()\n",
    "April = NEW_LOSS_DF[NEW_LOSS_DF['Month of absence'] == 4]['Loss'].sum()\n",
    "may = NEW_LOSS_DF[NEW_LOSS_DF['Month of absence'] == 5]['Loss'].sum()\n",
    "Jun = NEW_LOSS_DF[NEW_LOSS_DF['Month of absence'] == 6]['Loss'].sum()\n",
    "Jul = NEW_LOSS_DF[NEW_LOSS_DF['Month of absence'] == 7]['Loss'].sum()\n",
    "Aug = NEW_LOSS_DF[NEW_LOSS_DF['Month of absence'] == 8]['Loss'].sum()\n",
    "Sep = NEW_LOSS_DF[NEW_LOSS_DF['Month of absence'] == 9]['Loss'].sum()\n",
    "Oct = NEW_LOSS_DF[NEW_LOSS_DF['Month of absence'] == 10]['Loss'].sum()\n",
    "Nov = NEW_LOSS_DF[NEW_LOSS_DF['Month of absence'] == 11]['Loss'].sum()\n",
    "Dec = NEW_LOSS_DF[NEW_LOSS_DF['Month of absence'] == 12]['Loss'].sum()"
   ]
  },
  {
   "cell_type": "code",
   "execution_count": 92,
   "metadata": {},
   "outputs": [],
   "source": [
    "data = {'Janaury': Jan,'Febraury': Feb,'March': Mar,\n",
    "       'April': April, 'May': may,'June': Jun,'July': Jul,\n",
    "       'August': Aug,'September': Sep,'October': Oct,'November': Nov,\n",
    "       'December': Dec}"
   ]
  },
  {
   "cell_type": "code",
   "execution_count": 93,
   "metadata": {},
   "outputs": [
    {
     "data": {
      "text/plain": [
       "{'April': 6757979,\n",
       " 'August': 2763857,\n",
       " 'December': 6535921,\n",
       " 'Febraury': 4719049,\n",
       " 'Janaury': 5655839,\n",
       " 'July': 10088335,\n",
       " 'June': 38827844,\n",
       " 'March': 12141695,\n",
       " 'May': 3475103,\n",
       " 'November': 8614429,\n",
       " 'October': 7740109,\n",
       " 'September': 2430839}"
      ]
     },
     "execution_count": 93,
     "metadata": {},
     "output_type": "execute_result"
    }
   ],
   "source": [
    "data"
   ]
  },
  {
   "cell_type": "code",
   "execution_count": 94,
   "metadata": {},
   "outputs": [],
   "source": [
    "WorkLoss = pd.DataFrame.from_dict(data, orient='index')"
   ]
  },
  {
   "cell_type": "code",
   "execution_count": 95,
   "metadata": {},
   "outputs": [],
   "source": [
    "WorkLoss = WorkLoss.rename(index=str, columns={0: \"Work Load Loss/Month\"})"
   ]
  },
  {
   "cell_type": "code",
   "execution_count": 96,
   "metadata": {},
   "outputs": [
    {
     "data": {
      "text/html": [
       "<div>\n",
       "<style>\n",
       "    .dataframe thead tr:only-child th {\n",
       "        text-align: right;\n",
       "    }\n",
       "\n",
       "    .dataframe thead th {\n",
       "        text-align: left;\n",
       "    }\n",
       "\n",
       "    .dataframe tbody tr th {\n",
       "        vertical-align: top;\n",
       "    }\n",
       "</style>\n",
       "<table border=\"1\" class=\"dataframe\">\n",
       "  <thead>\n",
       "    <tr style=\"text-align: right;\">\n",
       "      <th></th>\n",
       "      <th>Work Load Loss/Month</th>\n",
       "    </tr>\n",
       "  </thead>\n",
       "  <tbody>\n",
       "    <tr>\n",
       "      <th>Janaury</th>\n",
       "      <td>5655839</td>\n",
       "    </tr>\n",
       "    <tr>\n",
       "      <th>Febraury</th>\n",
       "      <td>4719049</td>\n",
       "    </tr>\n",
       "    <tr>\n",
       "      <th>March</th>\n",
       "      <td>12141695</td>\n",
       "    </tr>\n",
       "    <tr>\n",
       "      <th>April</th>\n",
       "      <td>6757979</td>\n",
       "    </tr>\n",
       "    <tr>\n",
       "      <th>May</th>\n",
       "      <td>3475103</td>\n",
       "    </tr>\n",
       "    <tr>\n",
       "      <th>June</th>\n",
       "      <td>38827844</td>\n",
       "    </tr>\n",
       "    <tr>\n",
       "      <th>July</th>\n",
       "      <td>10088335</td>\n",
       "    </tr>\n",
       "    <tr>\n",
       "      <th>August</th>\n",
       "      <td>2763857</td>\n",
       "    </tr>\n",
       "    <tr>\n",
       "      <th>September</th>\n",
       "      <td>2430839</td>\n",
       "    </tr>\n",
       "    <tr>\n",
       "      <th>October</th>\n",
       "      <td>7740109</td>\n",
       "    </tr>\n",
       "    <tr>\n",
       "      <th>November</th>\n",
       "      <td>8614429</td>\n",
       "    </tr>\n",
       "    <tr>\n",
       "      <th>December</th>\n",
       "      <td>6535921</td>\n",
       "    </tr>\n",
       "  </tbody>\n",
       "</table>\n",
       "</div>"
      ],
      "text/plain": [
       "           Work Load Loss/Month\n",
       "Janaury                 5655839\n",
       "Febraury                4719049\n",
       "March                  12141695\n",
       "April                   6757979\n",
       "May                     3475103\n",
       "June                   38827844\n",
       "July                   10088335\n",
       "August                  2763857\n",
       "September               2430839\n",
       "October                 7740109\n",
       "November                8614429\n",
       "December                6535921"
      ]
     },
     "execution_count": 96,
     "metadata": {},
     "output_type": "execute_result"
    }
   ],
   "source": [
    "WorkLoss "
   ]
  },
  {
   "cell_type": "markdown",
   "metadata": {},
   "source": [
    "# Work Load / Month"
   ]
  },
  {
   "cell_type": "code",
   "execution_count": 97,
   "metadata": {},
   "outputs": [],
   "source": [
    "Jan = NEW_LOSS_DF[NEW_LOSS_DF['Month of absence'] == 1]['Work load Average/day '].sum()\n",
    "Feb = NEW_LOSS_DF[NEW_LOSS_DF['Month of absence'] == 2]['Work load Average/day '].sum()\n",
    "Mar = NEW_LOSS_DF[NEW_LOSS_DF['Month of absence'] == 3]['Work load Average/day '].sum()\n",
    "April = NEW_LOSS_DF[NEW_LOSS_DF['Month of absence'] == 4]['Work load Average/day '].sum()\n",
    "may = NEW_LOSS_DF[NEW_LOSS_DF['Month of absence'] == 5]['Work load Average/day '].sum()\n",
    "Jun = NEW_LOSS_DF[NEW_LOSS_DF['Month of absence'] == 6]['Work load Average/day '].sum()\n",
    "Jul = NEW_LOSS_DF[NEW_LOSS_DF['Month of absence'] == 7]['Work load Average/day '].sum()\n",
    "Aug = NEW_LOSS_DF[NEW_LOSS_DF['Month of absence'] == 8]['Work load Average/day '].sum()\n",
    "Sep = NEW_LOSS_DF[NEW_LOSS_DF['Month of absence'] == 9]['Work load Average/day '].sum()\n",
    "Oct = NEW_LOSS_DF[NEW_LOSS_DF['Month of absence'] == 10]['Work load Average/day '].sum()\n",
    "Nov = NEW_LOSS_DF[NEW_LOSS_DF['Month of absence'] == 11]['Work load Average/day '].sum()\n",
    "Dec = NEW_LOSS_DF[NEW_LOSS_DF['Month of absence'] == 12]['Work load Average/day '].sum()"
   ]
  },
  {
   "cell_type": "code",
   "execution_count": 98,
   "metadata": {
    "collapsed": true
   },
   "outputs": [],
   "source": [
    "data1 = {'Janaury': Jan,'Febraury': Feb,'March': Mar,\n",
    "       'April': April, 'May': may,'June': Jun,'July': Jul,\n",
    "       'August': Aug,'September': Sep,'October': Oct,'November': Nov,\n",
    "       'December': Dec}"
   ]
  },
  {
   "cell_type": "code",
   "execution_count": 99,
   "metadata": {
    "collapsed": true
   },
   "outputs": [],
   "source": [
    "WorkLossMain = pd.DataFrame.from_dict(data1, orient='index')"
   ]
  },
  {
   "cell_type": "code",
   "execution_count": 100,
   "metadata": {},
   "outputs": [],
   "source": [
    "WorkLossMain = WorkLossMain.rename(index=str, columns={0: \"Work load Average/Month\"})"
   ]
  },
  {
   "cell_type": "code",
   "execution_count": 101,
   "metadata": {},
   "outputs": [
    {
     "data": {
      "text/html": [
       "<div>\n",
       "<style>\n",
       "    .dataframe thead tr:only-child th {\n",
       "        text-align: right;\n",
       "    }\n",
       "\n",
       "    .dataframe thead th {\n",
       "        text-align: left;\n",
       "    }\n",
       "\n",
       "    .dataframe tbody tr th {\n",
       "        vertical-align: top;\n",
       "    }\n",
       "</style>\n",
       "<table border=\"1\" class=\"dataframe\">\n",
       "  <thead>\n",
       "    <tr style=\"text-align: right;\">\n",
       "      <th></th>\n",
       "      <th>Work load Average/Month</th>\n",
       "    </tr>\n",
       "  </thead>\n",
       "  <tbody>\n",
       "    <tr>\n",
       "      <th>Janaury</th>\n",
       "      <td>13681011</td>\n",
       "    </tr>\n",
       "    <tr>\n",
       "      <th>Febraury</th>\n",
       "      <td>16104688</td>\n",
       "    </tr>\n",
       "    <tr>\n",
       "      <th>March</th>\n",
       "      <td>19500650</td>\n",
       "    </tr>\n",
       "    <tr>\n",
       "      <th>April</th>\n",
       "      <td>10173041</td>\n",
       "    </tr>\n",
       "    <tr>\n",
       "      <th>May</th>\n",
       "      <td>7239114</td>\n",
       "    </tr>\n",
       "    <tr>\n",
       "      <th>June</th>\n",
       "      <td>60435954</td>\n",
       "    </tr>\n",
       "    <tr>\n",
       "      <th>July</th>\n",
       "      <td>11606542</td>\n",
       "    </tr>\n",
       "    <tr>\n",
       "      <th>August</th>\n",
       "      <td>9361459</td>\n",
       "    </tr>\n",
       "    <tr>\n",
       "      <th>September</th>\n",
       "      <td>7447080</td>\n",
       "    </tr>\n",
       "    <tr>\n",
       "      <th>October</th>\n",
       "      <td>15055340</td>\n",
       "    </tr>\n",
       "    <tr>\n",
       "      <th>November</th>\n",
       "      <td>15031747</td>\n",
       "    </tr>\n",
       "    <tr>\n",
       "      <th>December</th>\n",
       "      <td>10527896</td>\n",
       "    </tr>\n",
       "  </tbody>\n",
       "</table>\n",
       "</div>"
      ],
      "text/plain": [
       "           Work load Average/Month\n",
       "Janaury                   13681011\n",
       "Febraury                  16104688\n",
       "March                     19500650\n",
       "April                     10173041\n",
       "May                        7239114\n",
       "June                      60435954\n",
       "July                      11606542\n",
       "August                     9361459\n",
       "September                  7447080\n",
       "October                   15055340\n",
       "November                  15031747\n",
       "December                  10527896"
      ]
     },
     "execution_count": 101,
     "metadata": {},
     "output_type": "execute_result"
    }
   ],
   "source": [
    "WorkLossMain"
   ]
  },
  {
   "cell_type": "markdown",
   "metadata": {},
   "source": [
    "# Work Load Loss In Percentage % Every Month Due To Absenteeism in Company"
   ]
  },
  {
   "cell_type": "code",
   "execution_count": 103,
   "metadata": {},
   "outputs": [
    {
     "name": "stdout",
     "output_type": "stream",
     "text": [
      "Janaury      41.340797\n",
      "Febraury     29.302331\n",
      "March        62.263027\n",
      "April        66.430274\n",
      "May          48.004535\n",
      "June         64.246266\n",
      "July         86.919386\n",
      "August       29.523785\n",
      "September    32.641505\n",
      "October      51.411054\n",
      "November     57.308236\n",
      "December     62.081930\n",
      "dtype: float64 % Loss\n"
     ]
    }
   ],
   "source": [
    "print((WorkLoss['Work Load Loss/Month']/WorkLossMain['Work load Average/Month'])*100,\"% Loss\")"
   ]
  },
  {
   "cell_type": "markdown",
   "metadata": {},
   "source": [
    "# THANK YOU!!!"
   ]
  },
  {
   "cell_type": "code",
   "execution_count": null,
   "metadata": {
    "collapsed": true
   },
   "outputs": [],
   "source": []
  }
 ],
 "metadata": {
  "kernelspec": {
   "display_name": "Python 3",
   "language": "python",
   "name": "python3"
  },
  "language_info": {
   "codemirror_mode": {
    "name": "ipython",
    "version": 3
   },
   "file_extension": ".py",
   "mimetype": "text/x-python",
   "name": "python",
   "nbconvert_exporter": "python",
   "pygments_lexer": "ipython3",
   "version": "3.6.3"
  }
 },
 "nbformat": 4,
 "nbformat_minor": 2
}
